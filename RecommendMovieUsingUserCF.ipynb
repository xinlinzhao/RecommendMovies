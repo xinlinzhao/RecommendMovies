{
 "cells": [
  {
   "cell_type": "code",
   "execution_count": 16,
   "id": "2688b548",
   "metadata": {},
   "outputs": [],
   "source": [
    "import numpy as np\n",
    "import pandas as pd\n",
    "import random\n",
    "from collections import defaultdict\n",
    "from matplotlib import pyplot as plt\n",
    "from sklearn.model_selection import train_test_split\n",
    "from tqdm import tqdm\n",
    "import time"
   ]
  },
  {
   "cell_type": "markdown",
   "id": "25be6ed6",
   "metadata": {},
   "source": [
    "# Study the data"
   ]
  },
  {
   "cell_type": "code",
   "execution_count": 2,
   "id": "f5a18afd",
   "metadata": {},
   "outputs": [
    {
     "data": {
      "text/html": [
       "<div>\n",
       "<style scoped>\n",
       "    .dataframe tbody tr th:only-of-type {\n",
       "        vertical-align: middle;\n",
       "    }\n",
       "\n",
       "    .dataframe tbody tr th {\n",
       "        vertical-align: top;\n",
       "    }\n",
       "\n",
       "    .dataframe thead th {\n",
       "        text-align: right;\n",
       "    }\n",
       "</style>\n",
       "<table border=\"1\" class=\"dataframe\">\n",
       "  <thead>\n",
       "    <tr style=\"text-align: right;\">\n",
       "      <th></th>\n",
       "      <th>UserID</th>\n",
       "      <th>MovieID</th>\n",
       "      <th>Rating</th>\n",
       "      <th>Timestamp</th>\n",
       "    </tr>\n",
       "  </thead>\n",
       "  <tbody>\n",
       "    <tr>\n",
       "      <th>0</th>\n",
       "      <td>1</td>\n",
       "      <td>1193</td>\n",
       "      <td>5</td>\n",
       "      <td>978300760</td>\n",
       "    </tr>\n",
       "    <tr>\n",
       "      <th>1</th>\n",
       "      <td>1</td>\n",
       "      <td>661</td>\n",
       "      <td>3</td>\n",
       "      <td>978302109</td>\n",
       "    </tr>\n",
       "    <tr>\n",
       "      <th>2</th>\n",
       "      <td>1</td>\n",
       "      <td>914</td>\n",
       "      <td>3</td>\n",
       "      <td>978301968</td>\n",
       "    </tr>\n",
       "    <tr>\n",
       "      <th>3</th>\n",
       "      <td>1</td>\n",
       "      <td>3408</td>\n",
       "      <td>4</td>\n",
       "      <td>978300275</td>\n",
       "    </tr>\n",
       "    <tr>\n",
       "      <th>4</th>\n",
       "      <td>1</td>\n",
       "      <td>2355</td>\n",
       "      <td>5</td>\n",
       "      <td>978824291</td>\n",
       "    </tr>\n",
       "  </tbody>\n",
       "</table>\n",
       "</div>"
      ],
      "text/plain": [
       "   UserID  MovieID  Rating  Timestamp\n",
       "0       1     1193       5  978300760\n",
       "1       1      661       3  978302109\n",
       "2       1      914       3  978301968\n",
       "3       1     3408       4  978300275\n",
       "4       1     2355       5  978824291"
      ]
     },
     "execution_count": 2,
     "metadata": {},
     "output_type": "execute_result"
    }
   ],
   "source": [
    "#ratings.dat, UserID::MovieID::Rating::Timestamp\n",
    "data = pd.read_csv(filepath_or_buffer='data/ratings.dat', sep='::', header=None, engine='python')\n",
    "data.columns =['UserID', 'MovieID', 'Rating', 'Timestamp']\n",
    "data.head()"
   ]
  },
  {
   "cell_type": "code",
   "execution_count": 3,
   "id": "cd10a110",
   "metadata": {},
   "outputs": [
    {
     "data": {
      "text/plain": [
       "3706"
      ]
     },
     "execution_count": 3,
     "metadata": {},
     "output_type": "execute_result"
    }
   ],
   "source": [
    "total_movies = data['MovieID'].nunique()\n",
    "total_movies"
   ]
  },
  {
   "cell_type": "code",
   "execution_count": 4,
   "id": "18423dd8",
   "metadata": {},
   "outputs": [
    {
     "data": {
      "text/plain": [
       "6040"
      ]
     },
     "execution_count": 4,
     "metadata": {},
     "output_type": "execute_result"
    }
   ],
   "source": [
    "total_users = data['UserID'].nunique()\n",
    "total_users"
   ]
  },
  {
   "cell_type": "code",
   "execution_count": 5,
   "id": "95405397",
   "metadata": {},
   "outputs": [
    {
     "data": {
      "image/png": "[encoded data removed]",
      "text/plain": [
       "<Figure size 432x288 with 1 Axes>"
      ]
     },
     "metadata": {
      "needs_background": "light"
     },
     "output_type": "display_data"
    }
   ],
   "source": [
    "data['Rating'].value_counts(sort=False).plot(kind='bar')\n",
    "plt.xlabel('Ratings')\n",
    "plt.show()"
   ]
  },
  {
   "cell_type": "code",
   "execution_count": 6,
   "id": "b7033379",
   "metadata": {},
   "outputs": [],
   "source": [
    "def calculate_movie_popularity(user_movies): \n",
    "    movie_popularity = {}\n",
    "    for _, movie_id in user_movies: \n",
    "        if movie_id not in movie_popularity: \n",
    "            movie_popularity[movie_id] = 1 \n",
    "        else: \n",
    "            movie_popularity[movie_id] += 1\n",
    "    return movie_popularity\n",
    "\n",
    "checkdata = data[['UserID', 'MovieID']]\n",
    "movie_popularity = calculate_movie_popularity(checkdata.values)"
   ]
  },
  {
   "cell_type": "code",
   "execution_count": 8,
   "id": "29a715da",
   "metadata": {},
   "outputs": [
    {
     "data": {
      "image/png": "[encoded data removed]",
      "text/plain": [
       "<Figure size 432x288 with 1 Axes>"
      ]
     },
     "metadata": {
      "needs_background": "light"
     },
     "output_type": "display_data"
    }
   ],
   "source": [
    "ranked_popularity = list(map(lambda x:x[1], movie_popularity.items()))\n",
    "plt.plot(sorted(ranked_popularity, reverse=True))\n",
    "plt.ylabel('Popularity')\n",
    "plt.xlabel('Movie')\n",
    "plt.show()"
   ]
  },
  {
   "cell_type": "markdown",
   "id": "d2efd66f",
   "metadata": {},
   "source": [
    "# Prepare data and build similarity matrix"
   ]
  },
  {
   "cell_type": "code",
   "execution_count": 20,
   "id": "bf7658e4",
   "metadata": {},
   "outputs": [],
   "source": [
    "x, y = data[['UserID', 'MovieID']].values, data['Rating'].values\n",
    "x_train, x_test, _, _ = train_test_split(x, y, train_size = 0.8, random_state = 0)"
   ]
  },
  {
   "cell_type": "code",
   "execution_count": 21,
   "id": "7772f97a",
   "metadata": {},
   "outputs": [],
   "source": [
    "def get_watched_movie_list(watched_movies): \n",
    "    user_movies = {} \n",
    "    for user_id, movie_id in watched_movies: \n",
    "        if user_id not in user_movies: \n",
    "            user_movies[user_id] = set([movie_id])\n",
    "        else: \n",
    "            user_movies[user_id].add(movie_id)\n",
    "    return user_movies\n",
    "\n",
    "x_train_watched_movie_list = get_watched_movie_list(x_train)\n",
    "x_test_watched_movie_list = get_watched_movie_list(x_test)"
   ]
  },
  {
   "cell_type": "code",
   "execution_count": 24,
   "id": "520548dd",
   "metadata": {},
   "outputs": [
    {
     "name": "stderr",
     "output_type": "stream",
     "text": [
      "100%|██████████| 6040/6040 [01:39<00:00, 60.89it/s] \n"
     ]
    }
   ],
   "source": [
    "def calculate_user_similarity(user_movies):\n",
    "    similarity_matrix = defaultdict(dict)\n",
    "    all_users = user_movies.keys() \n",
    "      \n",
    "    for user_a in tqdm(all_users): \n",
    "        for user_b in all_users: \n",
    "            if user_a < user_b: \n",
    "                similarity_matrix[user_a][user_b] = len(user_movies[user_a] & user_movies[user_b]) / np.sqrt(len(user_movies[user_a]) * len(user_movies[user_b])) \n",
    "                similarity_matrix[user_b][user_a] = similarity_matrix[user_a][user_b]\n",
    "    \n",
    "    return similarity_matrix\n",
    "\n",
    "similarity_matrix = calculate_user_similarity(x_train_watched_movie_list)"
   ]
  },
  {
   "cell_type": "markdown",
   "id": "2837f5ec",
   "metadata": {},
   "source": [
    "# Recommend with top K similar users"
   ]
  },
  {
   "cell_type": "code",
   "execution_count": 74,
   "id": "707a2169",
   "metadata": {},
   "outputs": [],
   "source": [
    "def recommend(user, user_movies, similarity_matrix, k): \n",
    "    recommend_list = defaultdict(float)\n",
    "    watched_list = user_movies[user]\n",
    "    sorted_similar_users = sorted(list(similarity_matrix[user].items()), key = lambda x:x[1], reverse = True)\n",
    "    top_k = sorted_similar_users[:k]\n",
    "    for similar_user, similarity_score in top_k: \n",
    "        for movie in user_movies[similar_user]: \n",
    "            if movie not in watched_list: \n",
    "                recommend_list[movie] += (similarity_score * 1.0)\n",
    "                \n",
    "    sorted_recommend_list = sorted(list(recommend_list.items()), key=lambda x:x[1], reverse=True)\n",
    "    return list(map(lambda x:x[0], sorted_recommend_list))"
   ]
  },
  {
   "cell_type": "code",
   "execution_count": 75,
   "id": "09d01584",
   "metadata": {},
   "outputs": [],
   "source": [
    "recommend_for_users = {}\n",
    "k = 5\n",
    "for user in x_test_watched_movie_list.keys(): \n",
    "    recommend_for_users[user] = recommend(user, x_train_watched_movie_list, similarity_matrix, k)"
   ]
  },
  {
   "cell_type": "markdown",
   "id": "22f6f82c",
   "metadata": {},
   "source": [
    "# Check performance"
   ]
  },
  {
   "cell_type": "code",
   "execution_count": 76,
   "id": "4b3b4176",
   "metadata": {},
   "outputs": [],
   "source": [
    "def metrics(watched_list, recommend_list, total_movies, n=20): \n",
    "    watched_all, recommend_all, hit = 0, 0, 0 \n",
    "    covered_list = []\n",
    "    for user in watched_list: \n",
    "        watched_all += len(watched_list[user])\n",
    "        recommend_all += len(recommend_list[user][:n])\n",
    "        hit += len(set(recommend_list[user][:n]) & watched_list[user])\n",
    "        covered_list += recommend_list[user][:n]\n",
    "\n",
    "    precision = hit / recommend_all\n",
    "    recall = hit / watched_all\n",
    "    coverage = len(set(covered_list)) / total_movies\n",
    "    \n",
    "    return precision, recall, coverage"
   ]
  },
  {
   "cell_type": "code",
   "execution_count": 77,
   "id": "ec879b9d",
   "metadata": {},
   "outputs": [
    {
     "data": {
      "text/plain": [
       "(0.2550604604936227, 0.03848691774727307, 0.4268753372908797)"
      ]
     },
     "execution_count": 77,
     "metadata": {},
     "output_type": "execute_result"
    }
   ],
   "source": [
    "#recommend 5 movies to users based on top 5 similar users\n",
    "metrics(x_test_watched_movie_list, recommend_for_users, total_movies, 5)"
   ]
  },
  {
   "cell_type": "markdown",
   "id": "0f9949d5",
   "metadata": {},
   "source": [
    "# Recommend different number of movies"
   ]
  },
  {
   "cell_type": "code",
   "execution_count": 79,
   "id": "9f3c1f08",
   "metadata": {},
   "outputs": [
    {
     "data": {
      "text/html": [
       "<div>\n",
       "<style scoped>\n",
       "    .dataframe tbody tr th:only-of-type {\n",
       "        vertical-align: middle;\n",
       "    }\n",
       "\n",
       "    .dataframe tbody tr th {\n",
       "        vertical-align: top;\n",
       "    }\n",
       "\n",
       "    .dataframe thead th {\n",
       "        text-align: right;\n",
       "    }\n",
       "</style>\n",
       "<table border=\"1\" class=\"dataframe\">\n",
       "  <thead>\n",
       "    <tr style=\"text-align: right;\">\n",
       "      <th></th>\n",
       "      <th>5</th>\n",
       "      <th>10</th>\n",
       "      <th>15</th>\n",
       "      <th>20</th>\n",
       "      <th>25</th>\n",
       "      <th>30</th>\n",
       "      <th>35</th>\n",
       "      <th>40</th>\n",
       "      <th>45</th>\n",
       "    </tr>\n",
       "  </thead>\n",
       "  <tbody>\n",
       "    <tr>\n",
       "      <th>precision</th>\n",
       "      <td>0.255060</td>\n",
       "      <td>0.228889</td>\n",
       "      <td>0.210524</td>\n",
       "      <td>0.195511</td>\n",
       "      <td>0.184270</td>\n",
       "      <td>0.174833</td>\n",
       "      <td>0.166402</td>\n",
       "      <td>0.159406</td>\n",
       "      <td>0.152796</td>\n",
       "    </tr>\n",
       "    <tr>\n",
       "      <th>recall</th>\n",
       "      <td>0.038487</td>\n",
       "      <td>0.069075</td>\n",
       "      <td>0.095300</td>\n",
       "      <td>0.118005</td>\n",
       "      <td>0.139026</td>\n",
       "      <td>0.158287</td>\n",
       "      <td>0.175763</td>\n",
       "      <td>0.192420</td>\n",
       "      <td>0.207466</td>\n",
       "    </tr>\n",
       "    <tr>\n",
       "      <th>coverage</th>\n",
       "      <td>0.426875</td>\n",
       "      <td>0.527253</td>\n",
       "      <td>0.594172</td>\n",
       "      <td>0.648408</td>\n",
       "      <td>0.696708</td>\n",
       "      <td>0.729358</td>\n",
       "      <td>0.755801</td>\n",
       "      <td>0.775769</td>\n",
       "      <td>0.795197</td>\n",
       "    </tr>\n",
       "  </tbody>\n",
       "</table>\n",
       "</div>"
      ],
      "text/plain": [
       "                 5         10        15        20        25        30  \\\n",
       "precision  0.255060  0.228889  0.210524  0.195511  0.184270  0.174833   \n",
       "recall     0.038487  0.069075  0.095300  0.118005  0.139026  0.158287   \n",
       "coverage   0.426875  0.527253  0.594172  0.648408  0.696708  0.729358   \n",
       "\n",
       "                 35        40        45  \n",
       "precision  0.166402  0.159406  0.152796  \n",
       "recall     0.175763  0.192420  0.207466  \n",
       "coverage   0.755801  0.775769  0.795197  "
      ]
     },
     "execution_count": 79,
     "metadata": {},
     "output_type": "execute_result"
    }
   ],
   "source": [
    "compare = {}\n",
    "for n in range(5, 50, 5):\n",
    "    precision, recall, coverage = metrics(x_test_watched_movie_list, recommend_for_users, total_movies, n)\n",
    "    compare[n] = {'precision': precision, 'recall': recall, 'coverage': coverage}\n",
    "    \n",
    "pd.DataFrame(compare)"
   ]
  },
  {
   "cell_type": "code",
   "execution_count": null,
   "id": "e8804857",
   "metadata": {},
   "outputs": [],
   "source": []
  }
 ],
 "metadata": {
  "kernelspec": {
   "display_name": "Python 3",
   "language": "python",
   "name": "python3"
  },
  "language_info": {
   "codemirror_mode": {
    "name": "ipython",
    "version": 3
   },
   "file_extension": ".py",
   "mimetype": "text/x-python",
   "name": "python",
   "nbconvert_exporter": "python",
   "pygments_lexer": "ipython3",
   "version": "3.8.8"
  }
 },
 "nbformat": 4,
 "nbformat_minor": 5
}
